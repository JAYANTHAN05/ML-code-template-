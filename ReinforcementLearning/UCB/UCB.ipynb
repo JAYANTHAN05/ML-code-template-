{
 "cells": [
  {
   "cell_type": "code",
   "execution_count": 31,
   "metadata": {},
   "outputs": [],
   "source": [
    "#importing the libraries\n",
    "import numpy as np\n",
    "import pandas as pd\n",
    "import matplotlib.pyplot as plt #to pot the histogram \n",
    "import math"
   ]
  },
  {
   "cell_type": "code",
   "execution_count": 32,
   "metadata": {},
   "outputs": [],
   "source": [
    "#importing the dataset\n",
    "dataset = pd.read_csv(\"Ads_CTR_Optimisation.csv\")"
   ]
  },
  {
   "cell_type": "code",
   "execution_count": 36,
   "metadata": {},
   "outputs": [],
   "source": [
    "N =5  # total no of user\n",
    "d= 10 # ten types of ads\n",
    "ads_selected= list()\n",
    "numbers_selected = [0]*d # we wanted to create a list of 10 zero \n",
    "sum_of_rewards=[0]*d #we are calculating the total rewards initially it is zero\n",
    "total_rewards = 0 # initailly it is zero \n"
   ]
  },
  {
   "cell_type": "code",
   "execution_count": 37,
   "metadata": {},
   "outputs": [
    {
     "name": "stdout",
     "output_type": "stream",
     "text": [
      "UPB : inf\n",
      "max_upper_bound : inf\n",
      "UPB : 2.019666990168809\n",
      "max_upper_bound : 2.019666990168809\n",
      "UPB : inf\n",
      "max_upper_bound : inf\n",
      "UPB : 2.2837127533066592\n",
      "max_upper_bound : 2.2837127533066592\n",
      "UPB : inf\n",
      "max_upper_bound : inf\n",
      "UPB : 2.4420268866008827\n",
      "max_upper_bound : 2.4420268866008827\n",
      "UPB : inf\n",
      "max_upper_bound : inf\n",
      "UPB : 2.5537557300461198\n",
      "max_upper_bound : 2.5537557300461198\n",
      "UPB : inf\n",
      "max_upper_bound : inf\n"
     ]
    },
    {
     "data": {
      "text/plain": [
       "'\\nPurpose:\\nThis information is critical for calculating the **Upper Confidence Bound** (UCB) in future iterations:\\n- If an ad has been selected many times, its UCB tends to decrease because we are more confident in its performance.\\n- Ads that are less frequently selected get a higher UCB, encouraging exploration.\\n\\nThe algorithm ensures a balance between **exploitation** (choosing ads with high rewards) and **exploration** (trying out less-selected ads).\\n'"
      ]
     },
     "execution_count": 37,
     "metadata": {},
     "output_type": "execute_result"
    }
   ],
   "source": [
    "#now we are going to put the whole dataset into iteration\n",
    "for n in range(0,N):\n",
    "    # the aim is to find the value which is the highest upper bound\n",
    "    ad=0\n",
    "    # now we are going to next iteration to iterate over the all the 10 ads by column by column\n",
    "    # for each iteration we gonna find the upper confidence bound\n",
    "    max_upper_bound= 0 # we need to find the maximum upper bound so i am creating this variable\n",
    "    #initially it is zero \n",
    "\n",
    "    for i in range (0,d):\n",
    "        #if the ads inde(i) will aldready had been selected\n",
    "        if numbers_selected[i] > 0:\n",
    "            #if it is true the we go to find the avg reward\n",
    "            average_reward = sum_of_rewards[i] / numbers_selected[i] # this is riBar(n)\n",
    "            # now we need to compute the delta i\n",
    "            delta_i = math.sqrt(3/2 * math.log(n+1) / numbers_selected[i]) # hear n+1 is for avoid the infinity error\n",
    "            # if we put n the the first iteration will be the 0 , Then the 0 is divided by any thing will be the zero\n",
    "            upper_bound = average_reward + delta_i\n",
    "        else:\n",
    "            upper_bound = 1e400 # this will be the biggest value it is not infinity but is the largest value 1 the expontial power of 400\n",
    "        # no we need to define the  maximum upper bound based on the condition\n",
    "        if upper_bound > max_upper_bound:\n",
    "            max_upper_bound = upper_bound\n",
    "            print(\"UPB :\",upper_bound)\n",
    "            print(\"max_upper_bound :\",max_upper_bound)\n",
    "            ad= i # this i is what means we are working on the particular i \n",
    "            # tha variable ad have the index value\n",
    "    ads_selected.append(ad)\n",
    "    #numbers_selected = [0]*d = [0,0,0,0,0,0,0,0,0,0]\n",
    "    numbers_selected[ad]+=1\n",
    "    reward=dataset.values[n, ad]\n",
    "    sum_of_rewards[ad]= sum_of_rewards[ad] + reward\n",
    "    total_rewards=total_rewards+reward\n",
    "    '''lets say \n",
    "    chat gpt will break down this\n",
    "    Let me explain the line `numbers_selected[ad] += 1` in detail for your scenario. Here's a step-by-step breakdown:\n",
    "\n",
    "### Variables in Context:\n",
    "1. **`numbers_selected`**:\n",
    "   - It is a list of size `d` (10 in this case).\n",
    "   - Each index represents an ad (from 0 to 9).\n",
    "   - The value at each index indicates how many times the corresponding ad has been selected by the algorithm so far.\n",
    "\n",
    "   Example (initially): \n",
    "   numbers_selected = [0, 0, 0, 0, 0, 0, 0, 0, 0, 0]\n",
    "\n",
    "2. **`ad`**:\n",
    "   - This is the index of the ad with the highest **Upper Confidence Bound (UCB)** for the current iteration. \n",
    "   - When an ad is selected, we increment its count in `numbers_selected`.\n",
    "\n",
    "3. **`numbers_selected[ad] += 1`**:\n",
    "   - After selecting the ad `ad`, you increment its count in the `numbers_selected` list.\n",
    "   - This means the selected ad is chosen one more time.\n",
    "\n",
    "### Example Walkthrough:\n",
    "\n",
    "- At the beginning:\n",
    "  numbers_selected = [0, 0, 0, 0, 0, 0, 0, 0, 0, 0]  # No ads selected yet\n",
    "\n",
    "\n",
    "- **Iteration 1**:\n",
    "  - Assume `ad = 3` is selected (the ad with the highest UCB).\n",
    "  - `numbers_selected[ad] += 1` increments the value at index 3.\n",
    "  numbers_selected = [0, 0, 0, 1, 0, 0, 0, 0, 0, 0]\n",
    "\n",
    "\n",
    "- **Iteration 2**:\n",
    "  - Assume `ad = 7` is selected in this iteration.\n",
    "  - Increment the count for ad 7.\n",
    "  numbers_selected = [0, 0, 0, 1, 0, 0, 0, 1, 0, 0]\n",
    "\n",
    "\n",
    "- **Iteration 3**:\n",
    "  - Assume `ad = 3` is selected again.\n",
    "  - Increment the count for ad 3.\n",
    "  numbers_selected = [0, 0, 0, 2, 0, 0, 0, 1, 0, 0]\n",
    "\n",
    "This way, `numbers_selected` keeps track of how many times each ad has been shown to users.'''\n",
    "\n",
    "\n",
    "#finally it becomes numbers_selected = [8000, 500, 700, 300, 200, 100, 50, 50, 50, 50] the the highest value which is 8000 that index is the 0 . the 0 represent the first ad\n",
    "\n",
    "\n",
    "\n",
    "'''\n",
    "Purpose:\n",
    "This information is critical for calculating the **Upper Confidence Bound** (UCB) in future iterations:\n",
    "- If an ad has been selected many times, its UCB tends to decrease because we are more confident in its performance.\n",
    "- Ads that are less frequently selected get a higher UCB, encouraging exploration.\n",
    "\n",
    "The algorithm ensures a balance between **exploitation** (choosing ads with high rewards) and **exploration** (trying out less-selected ads).\n",
    "'''\n",
    "\n",
    "\n"
   ]
  },
  {
   "cell_type": "code",
   "execution_count": 35,
   "metadata": {},
   "outputs": [
    {
     "data": {
      "image/png": "[encoded data removed]",
      "text/plain": [
       "<Figure size 640x480 with 1 Axes>"
      ]
     },
     "metadata": {},
     "output_type": "display_data"
    }
   ],
   "source": [
    "#ploting the data to find the best ad \n",
    "plt.hist(ads_selected)\n",
    "plt.title(\"histigram of ads selections\")\n",
    "plt.xlabel(\"Ads\")\n",
    "plt.ylabel(\"the no of time the ad was selected\")\n",
    "plt.show()\n"
   ]
  }
 ],
 "metadata": {
  "kernelspec": {
   "display_name": "Python 3",
   "language": "python",
   "name": "python3"
  },
  "language_info": {
   "codemirror_mode": {
    "name": "ipython",
    "version": 3
   },
   "file_extension": ".py",
   "mimetype": "text/x-python",
   "name": "python",
   "nbconvert_exporter": "python",
   "pygments_lexer": "ipython3",
   "version": "3.12.2"
  }
 },
 "nbformat": 4,
 "nbformat_minor": 2
}
